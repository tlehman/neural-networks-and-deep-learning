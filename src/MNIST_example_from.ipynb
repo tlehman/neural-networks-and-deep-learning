{
 "cells": [
  {
   "cell_type": "markdown",
   "metadata": {},
   "source": [
    "# Loading up the MNIST dataset\n"
   ]
  },
  {
   "cell_type": "code",
   "execution_count": 1,
   "metadata": {
    "collapsed": true
   },
   "outputs": [],
   "source": [
    "import mnist_loader\n",
    "training_data, validation_data, test_data = mnist_loader.load_data_wrapper()"
   ]
  },
  {
   "cell_type": "markdown",
   "metadata": {},
   "source": [
    "## Peeking at the MNIST training data"
   ]
  },
  {
   "cell_type": "code",
   "execution_count": 2,
   "metadata": {
    "collapsed": true
   },
   "outputs": [],
   "source": [
    "%matplotlib inline\n",
    "import matplotlib.pyplot as plt\n",
    "import matplotlib.cm as cm\n",
    "import numpy as np\n",
    "img0 = training_data[0][0].reshape(28,28)\n",
    "\n",
    "def peekimg(img):\n",
    "    plt.imshow(1-img, cmap = cm.Greys_r)\n",
    "\n",
    "def testshow(index):\n",
    "    im = test_data[index][0]\n",
    "    peekimg(im.reshape(28,28))\n",
    "    return im"
   ]
  },
  {
   "cell_type": "code",
   "execution_count": 3,
   "metadata": {
    "collapsed": false
   },
   "outputs": [
    {
     "data": {
      "image/png": "[encoded data removed]",
      "text/plain": [
       "<matplotlib.figure.Figure at 0x102fbab10>"
      ]
     },
     "metadata": {},
     "output_type": "display_data"
    }
   ],
   "source": [
    "im4 = testshow(4)\n",
    "im7 = testshow(0)\n",
    "im2 = testshow(1)\n",
    "im1 = testshow(2)"
   ]
  },
  {
   "cell_type": "markdown",
   "metadata": {},
   "source": [
    "# Loading the neural network code\n",
    "\n",
    "Initialize it so input layer is $28x28 = 784$, 30 hidden neurons and 10 output neurons, to represent the ten digits it will be trained to recognize."
   ]
  },
  {
   "cell_type": "code",
   "execution_count": 4,
   "metadata": {
    "collapsed": false
   },
   "outputs": [],
   "source": [
    "import network\n",
    "net = network.Network([784, 30, 10])"
   ]
  },
  {
   "cell_type": "code",
   "execution_count": 5,
   "metadata": {
    "collapsed": false
   },
   "outputs": [],
   "source": [
    "net.load_from_pickled_parameters()"
   ]
  },
  {
   "cell_type": "markdown",
   "metadata": {},
   "source": [
    "# Use stochastic gradient descent to train the network\n",
    "\n",
    "Using learning rate $\\eta = 3$, over 30 epochs."
   ]
  },
  {
   "cell_type": "code",
   "execution_count": 52,
   "metadata": {
    "collapsed": false
   },
   "outputs": [
    {
     "name": "stdout",
     "output_type": "stream",
     "text": [
      "Epoch 0: 9067 / 10000\n",
      "Epoch 1: 9186 / 10000\n",
      "Epoch 2: 9262 / 10000\n",
      "Epoch 3: 9317 / 10000\n",
      "Epoch 4: 9346 / 10000\n",
      "Epoch 5: 9386 / 10000\n",
      "Epoch 6: 9407 / 10000\n",
      "Epoch 7: 9399 / 10000\n",
      "Epoch 8: 9302 / 10000\n",
      "Epoch 9: 9403 / 10000\n",
      "Epoch 10: 9447 / 10000\n",
      "Epoch 11: 9433 / 10000\n",
      "Epoch 12: 9478 / 10000\n",
      "Epoch 13: 9469 / 10000\n",
      "Epoch 14: 9430 / 10000\n",
      "Epoch 15: 9461 / 10000\n",
      "Epoch 16: 9460 / 10000\n",
      "Epoch 17: 9489 / 10000\n",
      "Epoch 18: 9446 / 10000\n",
      "Epoch 19: 9475 / 10000\n",
      "Epoch 20: 9458 / 10000\n",
      "Epoch 21: 9474 / 10000\n",
      "Epoch 22: 9477 / 10000\n",
      "Epoch 23: 9458 / 10000\n",
      "Epoch 24: 9462 / 10000\n",
      "Epoch 25: 9465 / 10000\n",
      "Epoch 26: 9483 / 10000\n",
      "Epoch 27: 9464 / 10000\n",
      "Epoch 28: 9458 / 10000\n",
      "Epoch 29: 9488 / 10000\n"
     ]
    }
   ],
   "source": [
    "net.SGD(training_data, 30, 10, 3.0, test_data=test_data)"
   ]
  },
  {
   "cell_type": "code",
   "execution_count": 6,
   "metadata": {
    "collapsed": false
   },
   "outputs": [],
   "source": [
    "def recognize(im):\n",
    "    output = net.feedforward(im).reshape(1,10)\n",
    "    return np.argmax(output)"
   ]
  },
  {
   "cell_type": "code",
   "execution_count": 7,
   "metadata": {
    "collapsed": false
   },
   "outputs": [
    {
     "data": {
      "text/plain": [
       "7"
      ]
     },
     "execution_count": 7,
     "metadata": {},
     "output_type": "execute_result"
    }
   ],
   "source": [
    "recognize(im7)"
   ]
  },
  {
   "cell_type": "code",
   "execution_count": 8,
   "metadata": {
    "collapsed": false
   },
   "outputs": [],
   "source": [
    "def showoff(index):\n",
    "    peekimg(test_data[index][0].reshape(28,28))\n",
    "    print recognize(test_data[index][0])"
   ]
  },
  {
   "cell_type": "code",
   "execution_count": 12,
   "metadata": {
    "collapsed": false
   },
   "outputs": [
    {
     "name": "stdout",
     "output_type": "stream",
     "text": [
      "0\n"
     ]
    },
    {
     "data": {
      "image/png": "[encoded data removed]",
      "text/plain": [
       "<matplotlib.figure.Figure at 0x112a03250>"
      ]
     },
     "metadata": {},
     "output_type": "display_data"
    }
   ],
   "source": [
    "showoff(101)"
   ]
  },
  {
   "cell_type": "code",
   "execution_count": 26,
   "metadata": {
    "collapsed": false
   },
   "outputs": [],
   "source": [
    "from PIL import Image\n",
    "import matplotlib.image as mpimg"
   ]
  },
  {
   "cell_type": "code",
   "execution_count": 44,
   "metadata": {
    "collapsed": false
   },
   "outputs": [
    {
     "data": {
      "text/plain": [
       "array([[255, 255],\n",
       "       [255, 255],\n",
       "       [255, 255],\n",
       "       ..., \n",
       "       [255, 255],\n",
       "       [255, 255],\n",
       "       [255, 255]])"
      ]
     },
     "execution_count": 44,
     "metadata": {},
     "output_type": "execute_result"
    }
   ],
   "source": [
    "im6 = Image.open(\"/Users/tlehman/Desktop/6.png\").convert('LA')\n",
    "im6.thumbnail((28,28))\n",
    "np.array(im6.getdata())"
   ]
  },
  {
   "cell_type": "code",
   "execution_count": 51,
   "metadata": {
    "collapsed": false
   },
   "outputs": [
    {
     "name": "stdout",
     "output_type": "stream",
     "text": [
      "8\n"
     ]
    },
    {
     "data": {
      "image/png": "[encoded data removed]",
      "text/plain": [
       "<matplotlib.figure.Figure at 0x10c4751d0>"
      ]
     },
     "metadata": {},
     "output_type": "display_data"
    }
   ],
   "source": [
    "showoff(2)"
   ]
  },
  {
   "cell_type": "code",
   "execution_count": 118,
   "metadata": {
    "collapsed": false
   },
   "outputs": [],
   "source": [
    "np.save('../data/weights', net.weights)\n",
    "np.save('../data/biases', net.biases)"
   ]
  },
  {
   "cell_type": "code",
   "execution_count": null,
   "metadata": {
    "collapsed": true
   },
   "outputs": [],
   "source": []
  }
 ],
 "metadata": {
  "kernelspec": {
   "display_name": "Python 2",
   "language": "python",
   "name": "python2"
  },
  "language_info": {
   "codemirror_mode": {
    "name": "ipython",
    "version": 2
   },
   "file_extension": ".py",
   "mimetype": "text/x-python",
   "name": "python",
   "nbconvert_exporter": "python",
   "pygments_lexer": "ipython2",
   "version": "2.7.10"
  }
 },
 "nbformat": 4,
 "nbformat_minor": 0
}
